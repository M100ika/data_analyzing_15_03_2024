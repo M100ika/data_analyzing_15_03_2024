{
 "cells": [
  {
   "cell_type": "code",
   "execution_count": 1,
   "metadata": {},
   "outputs": [],
   "source": [
    "import numpy as np\n",
    "import pandas as pd\n",
    "\n",
    "otu_df = pd.read_csv('/home/esp/data_analyze/15.03.2024/data/init_data/Res1/OTU.txt', sep='\\t')\n",
    "hiera_blast = pd.read_csv('/home/esp/data_analyze/15.03.2024/data/init_data/Res1/hiera_BLAST.txt', sep='\\t')\n",
    "meta_map_init = pd.read_csv('/home/esp/data_analyze/15.03.2024/data/init_data/Res1/primary/in.map', sep='\\t')\n",
    "meta = pd.read_csv('/home/esp/data_analyze/15.03.2024/data/init_data/Res1/metadata_geo.csv',  sep='\\t')\n",
    "genus_df = pd.read_csv('/home/esp/data_analyze/15.03.2024/data/init_data/Res1/higherLvl/Genus.txt', sep='\\t')"
   ]
  },
  {
   "cell_type": "code",
   "execution_count": 6,
   "metadata": {},
   "outputs": [
    {
     "data": {
      "text/html": [
       "<div>\n",
       "<style scoped>\n",
       "    .dataframe tbody tr th:only-of-type {\n",
       "        vertical-align: middle;\n",
       "    }\n",
       "\n",
       "    .dataframe tbody tr th {\n",
       "        vertical-align: top;\n",
       "    }\n",
       "\n",
       "    .dataframe thead th {\n",
       "        text-align: right;\n",
       "    }\n",
       "</style>\n",
       "<table border=\"1\" class=\"dataframe\">\n",
       "  <thead>\n",
       "    <tr style=\"text-align: right;\">\n",
       "      <th></th>\n",
       "      <th>#SampleID</th>\n",
       "      <th>ID</th>\n",
       "    </tr>\n",
       "  </thead>\n",
       "  <tbody>\n",
       "    <tr>\n",
       "      <th>0</th>\n",
       "      <td>SMPL0</td>\n",
       "      <td>10.0</td>\n",
       "    </tr>\n",
       "    <tr>\n",
       "      <th>1</th>\n",
       "      <td>SMPL1</td>\n",
       "      <td>12.0</td>\n",
       "    </tr>\n",
       "    <tr>\n",
       "      <th>2</th>\n",
       "      <td>SMPL10</td>\n",
       "      <td>66.0</td>\n",
       "    </tr>\n",
       "    <tr>\n",
       "      <th>3</th>\n",
       "      <td>SMPL100</td>\n",
       "      <td>12161.0</td>\n",
       "    </tr>\n",
       "    <tr>\n",
       "      <th>4</th>\n",
       "      <td>SMPL101</td>\n",
       "      <td>12162.0</td>\n",
       "    </tr>\n",
       "  </tbody>\n",
       "</table>\n",
       "</div>"
      ],
      "text/plain": [
       "  #SampleID       ID\n",
       "0     SMPL0     10.0\n",
       "1     SMPL1     12.0\n",
       "2    SMPL10     66.0\n",
       "3   SMPL100  12161.0\n",
       "4   SMPL101  12162.0"
      ]
     },
     "execution_count": 6,
     "metadata": {},
     "output_type": "execute_result"
    }
   ],
   "source": [
    "meta_map_df = meta_map_init.copy()\n",
    "meta_map_df = meta_map_df.drop(columns=['SequencingRun'])\n",
    "for column in meta_map_df.select_dtypes(include=['object']):  \n",
    "    meta_map_df[column] = meta_map_df[column].str.replace('.extendedFrags.fastq.gz', '', regex=False)\n",
    "\n",
    "meta_map_df['fastqFile'] = meta_map_df['fastqFile'].apply(lambda x: x.split('_')[0])\n",
    "meta_map_df = meta_map_df.rename(columns={'fastqFile':'ID'})\n",
    "meta_map_df['ID'] = pd.to_numeric(meta_map_df['ID'], errors='coerce')\n",
    "meta_map_df.head()"
   ]
  },
  {
   "cell_type": "code",
   "execution_count": 7,
   "metadata": {},
   "outputs": [
    {
     "data": {
      "text/html": [
       "<div>\n",
       "<style scoped>\n",
       "    .dataframe tbody tr th:only-of-type {\n",
       "        vertical-align: middle;\n",
       "    }\n",
       "\n",
       "    .dataframe tbody tr th {\n",
       "        vertical-align: top;\n",
       "    }\n",
       "\n",
       "    .dataframe thead th {\n",
       "        text-align: right;\n",
       "    }\n",
       "</style>\n",
       "<table border=\"1\" class=\"dataframe\">\n",
       "  <thead>\n",
       "    <tr style=\"text-align: right;\">\n",
       "      <th></th>\n",
       "      <th>ID</th>\n",
       "      <th>GROUP</th>\n",
       "    </tr>\n",
       "  </thead>\n",
       "  <tbody>\n",
       "    <tr>\n",
       "      <th>0</th>\n",
       "      <td>11593</td>\n",
       "      <td>1</td>\n",
       "    </tr>\n",
       "    <tr>\n",
       "      <th>1</th>\n",
       "      <td>11596</td>\n",
       "      <td>1</td>\n",
       "    </tr>\n",
       "    <tr>\n",
       "      <th>2</th>\n",
       "      <td>12001</td>\n",
       "      <td>2</td>\n",
       "    </tr>\n",
       "    <tr>\n",
       "      <th>3</th>\n",
       "      <td>12002</td>\n",
       "      <td>2</td>\n",
       "    </tr>\n",
       "    <tr>\n",
       "      <th>4</th>\n",
       "      <td>12004</td>\n",
       "      <td>2</td>\n",
       "    </tr>\n",
       "  </tbody>\n",
       "</table>\n",
       "</div>"
      ],
      "text/plain": [
       "      ID  GROUP\n",
       "0  11593      1\n",
       "1  11596      1\n",
       "2  12001      2\n",
       "3  12002      2\n",
       "4  12004      2"
      ]
     },
     "execution_count": 7,
     "metadata": {},
     "output_type": "execute_result"
    }
   ],
   "source": [
    "meta.head()"
   ]
  },
  {
   "cell_type": "code",
   "execution_count": 13,
   "metadata": {},
   "outputs": [],
   "source": [
    "# Совпадающие значения\n",
    "matching_values = meta_map_df['ID'].isin(meta['ID'])\n",
    "matched_values = meta_map_df['ID'][matching_values]\n",
    "\n",
    "# Уникальные значения в meta_map_df\n",
    "unique_in_meta_map_df = meta_map_df[~meta_map_df['ID'].isin(meta['ID'])]['ID']\n",
    "\n",
    "# Уникальные значения в meta\n",
    "unique_in_meta = meta[~meta['ID'].isin(meta_map_df['ID'])]['ID']\n",
    "\n",
    "file = 'data/output_data/uniq_data.csv'\n",
    "with open(file, 'w') as uniq_data_file:\n",
    "    uniq_data_file.write(f\"Совпадающие значения в обоих DataFrame ({len(matched_values.unique())}): {matched_values.unique()}\\n\\n\"\n",
    "                         f\"Уникальные значения в in.map ({len(unique_in_meta_map_df.unique())}): {unique_in_meta_map_df.unique()}\\n\\n\"\n",
    "                         f\"Уникальные значения в metadata ({len(unique_in_meta.unique())}): {unique_in_meta.unique()}\\n\\n\"\n",
    "                         f\"Общее кол-во пропущенных данных: {len(unique_in_meta_map_df.unique()) + len(unique_in_meta.unique())}\")\n",
    "\n"
   ]
  }
 ],
 "metadata": {
  "kernelspec": {
   "display_name": "GEOenv",
   "language": "python",
   "name": "python3"
  },
  "language_info": {
   "codemirror_mode": {
    "name": "ipython",
    "version": 3
   },
   "file_extension": ".py",
   "mimetype": "text/x-python",
   "name": "python",
   "nbconvert_exporter": "python",
   "pygments_lexer": "ipython3",
   "version": "3.11.3"
  }
 },
 "nbformat": 4,
 "nbformat_minor": 2
}
